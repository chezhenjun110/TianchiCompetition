{
 "cells": [
  {
   "cell_type": "code",
   "execution_count": 171,
   "metadata": {
    "scrolled": false
   },
   "outputs": [],
   "source": [
    "import datetime\n",
    "import numpy as np\n",
    "import pandas as pd\n",
    "import lightgbm as lgb\n",
    "from dateutil.parser import parse\n",
    "from sklearn.cross_validation import KFold\n",
    "from sklearn.metrics import mean_squared_error\n",
    "\n",
    "\n",
    "\n",
    "data_path = 'datas/'\n",
    "\n",
    "\n",
    "\n",
    "train = pd.read_csv(data_path+'train_contain38.csv',encoding='gb2312')\n",
    "#train = pd.read_csv(data_path+'train_nocontain38.csv',encoding='gb2312')\n",
    "test = pd.read_csv(data_path+'testA.csv',encoding='gb2312')\n",
    "\n",
    "def make_feat(train,test):\n",
    "\n",
    "    data = pd.concat([train,test])\n",
    "\n",
    "    data['性别'] = data['性别'].map({'男':1,'女':0})\n",
    "    data['体检日期'] = (pd.to_datetime(data['体检日期']) - parse('2017-09-09')).dt.days\n",
    "    \n",
    "    \n",
    "    data[\"年龄分段\"] = np.ceil(data[\"年龄\"] / 10)\n",
    "    data[\"年龄分段\"].where(data[\"年龄分段\"] <7, 7.0, inplace=True)\n",
    "    data[\"年龄分段\"].where(data[\"年龄分段\"] >3, 3.0, inplace=True)\n",
    "\n",
    "    #data.fillna(data.mean(axis=0),inplace=True)\n",
    "    data.drop(['id'],axis=1,inplace=True)\n",
    "    train_feat = data[:5642]\n",
    "    \n",
    "    \n",
    "#     train_feat[\"体检日期\"]\n",
    "    \n",
    "    cache1=pd.DataFrame()\n",
    "    for item in train_feat[\"体检日期\"].unique():\n",
    "        median=train_feat[train_feat[\"体检日期\"]==item].median(axis=0)\n",
    "        item_df=train_feat[train_feat[\"体检日期\"]==item].copy()\n",
    "        item_df.fillna(-999,inplace=True)\n",
    "        cache1=pd.concat([cache1,item_df])\n",
    "    cache1.fillna(cache1.median(axis=0),inplace=True)\n",
    "    \n",
    "    \n",
    "    test_feat = data[5642:]\n",
    "    cache2=pd.DataFrame()\n",
    "    for item in test_feat[\"体检日期\"].unique():\n",
    "        median=test_feat[test_feat[\"体检日期\"]==item].median(axis=0)\n",
    "        item_df=test_feat[test_feat[\"体检日期\"]==item].copy()\n",
    "        item_df.fillna(-999,inplace=True)\n",
    "        cache2=pd.concat([cache2,item_df])\n",
    "    cache2.fillna(cache2.median(axis=0),inplace=True)\n",
    "    \n",
    "    \n",
    "    return cache1,cache2\n",
    "\n",
    "def evalerror(pred, df):\n",
    "    label = df.get_label().values.copy()\n",
    "    score = mean_squared_error(label,pred)*0.5\n",
    "    return ('0.5mse',score,False)"
   ]
  },
  {
   "cell_type": "code",
   "execution_count": 180,
   "metadata": {},
   "outputs": [],
   "source": [
    "train_feat,test_feat = make_feat(train,test)\n",
    "#predictors = [f for f in test_feat.columns if f not in ['血糖']]\n",
    "categorical_features=['性别','年龄','体检日期']"
   ]
  },
  {
   "cell_type": "code",
   "execution_count": 181,
   "metadata": {},
   "outputs": [],
   "source": [
    "# corr_matrix=train_feat.corr()\n",
    "# relative_df=corr_matrix[\"血糖\"]\n",
    "# predictor=relative_df[relative_df.values>0.0].index.tolist()\n",
    "predictors = [f for f in train_feat.columns if f not in ['血糖']]"
   ]
  },
  {
   "cell_type": "code",
   "execution_count": 178,
   "metadata": {},
   "outputs": [],
   "source": [
    "from sklearn.model_selection import GridSearchCV"
   ]
  },
  {
   "cell_type": "code",
   "execution_count": null,
   "metadata": {},
   "outputs": [],
   "source": [
    "lgb_train1 = lgb.Dataset(train_feat[predictors], train_feat['血糖'],categorical_feature=categorical_features)\n",
    "lgb_train2 = lgb.Dataset(train_feat[predictors], train_feat['血糖'],categorical_feature=categorical_features)\n",
    "gbm = lgb.train(params,\n",
    "                    lgb_train1,\n",
    "                    num_boost_round=3000,\n",
    "                    valid_sets=lgb_train2,\n",
    "                    verbose_eval=100,\n",
    "                    feval=evalerror,\n",
    "                    early_stopping_rounds=500)"
   ]
  },
  {
   "cell_type": "code",
   "execution_count": null,
   "metadata": {},
   "outputs": [],
   "source": [
    "model=GridSearchCV(gbm,parameters)"
   ]
  },
  {
   "cell_type": "code",
   "execution_count": 183,
   "metadata": {
    "scrolled": false
   },
   "outputs": [
    {
     "name": "stdout",
     "output_type": "stream",
     "text": [
      "开始训练...\n",
      "第0次训练...\n"
     ]
    },
    {
     "name": "stderr",
     "output_type": "stream",
     "text": [
      "C:\\Anaconda3\\lib\\site-packages\\lightgbm\\basic.py:1027: UserWarning: Using categorical_feature in Dataset.\n",
      "  warnings.warn('Using categorical_feature in Dataset.')\n",
      "C:\\Anaconda3\\lib\\site-packages\\lightgbm\\basic.py:668: UserWarning: categorical_feature in param dict is overrided.\n",
      "  warnings.warn('categorical_feature in param dict is overrided.')\n"
     ]
    },
    {
     "name": "stdout",
     "output_type": "stream",
     "text": [
      "Training until validation scores don't improve for 500 rounds.\n",
      "[100]\tvalid_0's l2: 2.01956\tvalid_0's 0.5mse: 1.00978\n",
      "[200]\tvalid_0's l2: 1.94163\tvalid_0's 0.5mse: 0.970817\n",
      "[300]\tvalid_0's l2: 1.91445\tvalid_0's 0.5mse: 0.957227\n",
      "[400]\tvalid_0's l2: 1.90384\tvalid_0's 0.5mse: 0.951921\n",
      "[500]\tvalid_0's l2: 1.90204\tvalid_0's 0.5mse: 0.95102\n",
      "[600]\tvalid_0's l2: 1.90594\tvalid_0's 0.5mse: 0.952969\n",
      "[700]\tvalid_0's l2: 1.91168\tvalid_0's 0.5mse: 0.955842\n",
      "[800]\tvalid_0's l2: 1.91688\tvalid_0's 0.5mse: 0.95844\n",
      "[900]\tvalid_0's l2: 1.92464\tvalid_0's 0.5mse: 0.962318\n",
      "Early stopping, best iteration is:\n",
      "[468]\tvalid_0's l2: 1.90111\tvalid_0's 0.5mse: 0.950557\n",
      "第1次训练...\n",
      "Training until validation scores don't improve for 500 rounds.\n",
      "[100]\tvalid_0's l2: 1.89349\tvalid_0's 0.5mse: 0.946747\n",
      "[200]\tvalid_0's l2: 1.82592\tvalid_0's 0.5mse: 0.912962\n",
      "[300]\tvalid_0's l2: 1.80973\tvalid_0's 0.5mse: 0.904864\n",
      "[400]\tvalid_0's l2: 1.80564\tvalid_0's 0.5mse: 0.902818\n",
      "[500]\tvalid_0's l2: 1.8067\tvalid_0's 0.5mse: 0.903349\n",
      "[600]\tvalid_0's l2: 1.81165\tvalid_0's 0.5mse: 0.905827\n",
      "[700]\tvalid_0's l2: 1.81636\tvalid_0's 0.5mse: 0.908179\n",
      "[800]\tvalid_0's l2: 1.82235\tvalid_0's 0.5mse: 0.911173\n",
      "[900]\tvalid_0's l2: 1.83016\tvalid_0's 0.5mse: 0.915078\n",
      "Early stopping, best iteration is:\n",
      "[401]\tvalid_0's l2: 1.80525\tvalid_0's 0.5mse: 0.902623\n",
      "第2次训练...\n",
      "Training until validation scores don't improve for 500 rounds.\n",
      "[100]\tvalid_0's l2: 2.22719\tvalid_0's 0.5mse: 1.1136\n",
      "[200]\tvalid_0's l2: 2.12825\tvalid_0's 0.5mse: 1.06413\n",
      "[300]\tvalid_0's l2: 2.08197\tvalid_0's 0.5mse: 1.04098\n",
      "[400]\tvalid_0's l2: 2.05473\tvalid_0's 0.5mse: 1.02736\n",
      "[500]\tvalid_0's l2: 2.04105\tvalid_0's 0.5mse: 1.02053\n",
      "[600]\tvalid_0's l2: 2.03367\tvalid_0's 0.5mse: 1.01683\n",
      "[700]\tvalid_0's l2: 2.02905\tvalid_0's 0.5mse: 1.01453\n",
      "[800]\tvalid_0's l2: 2.02562\tvalid_0's 0.5mse: 1.01281\n",
      "[900]\tvalid_0's l2: 2.02545\tvalid_0's 0.5mse: 1.01272\n",
      "[1000]\tvalid_0's l2: 2.02823\tvalid_0's 0.5mse: 1.01411\n",
      "[1100]\tvalid_0's l2: 2.02728\tvalid_0's 0.5mse: 1.01364\n",
      "[1200]\tvalid_0's l2: 2.03037\tvalid_0's 0.5mse: 1.01519\n",
      "[1300]\tvalid_0's l2: 2.03293\tvalid_0's 0.5mse: 1.01646\n",
      "Early stopping, best iteration is:\n",
      "[883]\tvalid_0's l2: 2.02468\tvalid_0's 0.5mse: 1.01234\n",
      "第3次训练...\n",
      "Training until validation scores don't improve for 500 rounds.\n",
      "[100]\tvalid_0's l2: 1.52542\tvalid_0's 0.5mse: 0.762711\n",
      "[200]\tvalid_0's l2: 1.48375\tvalid_0's 0.5mse: 0.741877\n",
      "[300]\tvalid_0's l2: 1.48547\tvalid_0's 0.5mse: 0.742737\n",
      "[400]\tvalid_0's l2: 1.49296\tvalid_0's 0.5mse: 0.746482\n",
      "[500]\tvalid_0's l2: 1.49859\tvalid_0's 0.5mse: 0.749293\n",
      "[600]\tvalid_0's l2: 1.51242\tvalid_0's 0.5mse: 0.756208\n",
      "[700]\tvalid_0's l2: 1.52374\tvalid_0's 0.5mse: 0.761868\n",
      "Early stopping, best iteration is:\n",
      "[215]\tvalid_0's l2: 1.48244\tvalid_0's 0.5mse: 0.741221\n",
      "第4次训练...\n",
      "Training until validation scores don't improve for 500 rounds.\n",
      "[100]\tvalid_0's l2: 3.02528\tvalid_0's 0.5mse: 1.51264\n",
      "[200]\tvalid_0's l2: 2.92653\tvalid_0's 0.5mse: 1.46326\n",
      "[300]\tvalid_0's l2: 2.8772\tvalid_0's 0.5mse: 1.4386\n",
      "[400]\tvalid_0's l2: 2.84402\tvalid_0's 0.5mse: 1.42201\n",
      "[500]\tvalid_0's l2: 2.8259\tvalid_0's 0.5mse: 1.41295\n",
      "[600]\tvalid_0's l2: 2.8169\tvalid_0's 0.5mse: 1.40845\n",
      "[700]\tvalid_0's l2: 2.81286\tvalid_0's 0.5mse: 1.40643\n",
      "[800]\tvalid_0's l2: 2.81366\tvalid_0's 0.5mse: 1.40683\n",
      "[900]\tvalid_0's l2: 2.80748\tvalid_0's 0.5mse: 1.40374\n",
      "[1000]\tvalid_0's l2: 2.80683\tvalid_0's 0.5mse: 1.40342\n",
      "[1100]\tvalid_0's l2: 2.81044\tvalid_0's 0.5mse: 1.40522\n",
      "[1200]\tvalid_0's l2: 2.81309\tvalid_0's 0.5mse: 1.40655\n",
      "[1300]\tvalid_0's l2: 2.81498\tvalid_0's 0.5mse: 1.40749\n",
      "[1400]\tvalid_0's l2: 2.81623\tvalid_0's 0.5mse: 1.40811\n",
      "Early stopping, best iteration is:\n",
      "[986]\tvalid_0's l2: 2.80533\tvalid_0's 0.5mse: 1.40267\n",
      "线下得分：1.001855454609653\n"
     ]
    }
   ],
   "source": [
    "print('开始训练...')\n",
    "params = {\n",
    "    'learning_rate': 0.01,\n",
    "    'boosting_type': 'gbdt',\n",
    "    'objective': 'regression_l2',\n",
    "    'metric': 'mse',\n",
    "    'sub_feature': 0.7,\n",
    "    'num_leaves': 60,\n",
    "    'colsample_bytree': 0.7,\n",
    "    'feature_fraction': 0.7,\n",
    "    'min_data': 100,\n",
    "    'min_hessian': 1,\n",
    "    'verbose': -1,\n",
    "}\n",
    "\n",
    "train_preds_copy=np.zeros((train_feat.shape[0],5))\n",
    "train_preds = np.zeros(train_feat.shape[0])\n",
    "test_preds = np.zeros((test_feat.shape[0], 5))\n",
    "kf = KFold(len(train_feat), n_folds = 5, shuffle=True, random_state=520)\n",
    "for i, (train_index, test_index) in enumerate(kf):\n",
    "    print('第{}次训练...'.format(i))\n",
    "    \n",
    "    \n",
    "    train_feat1 = train_feat.iloc[train_index]\n",
    "    train_feat2 = train_feat.iloc[test_index]\n",
    "    \n",
    "    \n",
    "    lgb_train1 = lgb.Dataset(train_feat1[predictors], train_feat1['血糖'],categorical_feature=categorical_features)\n",
    "    lgb_train2 = lgb.Dataset(train_feat2[predictors], train_feat2['血糖'],categorical_feature=categorical_features)\n",
    "    gbm = lgb.train(params,\n",
    "                    lgb_train1,\n",
    "                    num_boost_round=3000,\n",
    "                    valid_sets=lgb_train2,\n",
    "                    verbose_eval=100,\n",
    "                    feval=evalerror,\n",
    "                    early_stopping_rounds=500)\n",
    "    feat_imp = pd.Series(gbm.feature_importance(), index=predictors).sort_values(ascending=False)\n",
    "    \n",
    "    train_preds[test_index] += gbm.predict(train_feat2[predictors])\n",
    "    \n",
    "    test_preds[:,i] = gbm.predict(test_feat[predictors])\n",
    "    train_preds_copy[:,i]=gbm.predict(train_feat[predictors])\n",
    "    \n",
    "print('线下得分：{}'.format(mean_squared_error(train_feat['血糖'],train_preds)*0.5))\n"
   ]
  },
  {
   "cell_type": "code",
   "execution_count": 184,
   "metadata": {},
   "outputs": [],
   "source": [
    "# train_predict=pd.DataFrame({'train':train_preds})\n",
    "submission = pd.DataFrame({'pred':test_preds.mean(axis=1)})\n",
    "submission.to_csv(r'sub{}.csv'.format(datetime.datetime.now().strftime('%Y%m%d_%H%M%S')),header=None,\n",
    "                  index=False, float_format='%.4f')"
   ]
  },
  {
   "cell_type": "code",
   "execution_count": 185,
   "metadata": {},
   "outputs": [
    {
     "data": {
      "text/html": [
       "<div>\n",
       "<style scoped>\n",
       "    .dataframe tbody tr th:only-of-type {\n",
       "        vertical-align: middle;\n",
       "    }\n",
       "\n",
       "    .dataframe tbody tr th {\n",
       "        vertical-align: top;\n",
       "    }\n",
       "\n",
       "    .dataframe thead th {\n",
       "        text-align: right;\n",
       "    }\n",
       "</style>\n",
       "<table border=\"1\" class=\"dataframe\">\n",
       "  <thead>\n",
       "    <tr style=\"text-align: right;\">\n",
       "      <th></th>\n",
       "      <th>pred</th>\n",
       "    </tr>\n",
       "  </thead>\n",
       "  <tbody>\n",
       "    <tr>\n",
       "      <th>count</th>\n",
       "      <td>1000.000000</td>\n",
       "    </tr>\n",
       "    <tr>\n",
       "      <th>mean</th>\n",
       "      <td>5.773664</td>\n",
       "    </tr>\n",
       "    <tr>\n",
       "      <th>std</th>\n",
       "      <td>0.571403</td>\n",
       "    </tr>\n",
       "    <tr>\n",
       "      <th>min</th>\n",
       "      <td>4.779484</td>\n",
       "    </tr>\n",
       "    <tr>\n",
       "      <th>25%</th>\n",
       "      <td>5.327164</td>\n",
       "    </tr>\n",
       "    <tr>\n",
       "      <th>50%</th>\n",
       "      <td>5.667671</td>\n",
       "    </tr>\n",
       "    <tr>\n",
       "      <th>75%</th>\n",
       "      <td>6.130102</td>\n",
       "    </tr>\n",
       "    <tr>\n",
       "      <th>max</th>\n",
       "      <td>8.401238</td>\n",
       "    </tr>\n",
       "  </tbody>\n",
       "</table>\n",
       "</div>"
      ],
      "text/plain": [
       "              pred\n",
       "count  1000.000000\n",
       "mean      5.773664\n",
       "std       0.571403\n",
       "min       4.779484\n",
       "25%       5.327164\n",
       "50%       5.667671\n",
       "75%       6.130102\n",
       "max       8.401238"
      ]
     },
     "execution_count": 185,
     "metadata": {},
     "output_type": "execute_result"
    }
   ],
   "source": [
    "submission.describe()"
   ]
  },
  {
   "cell_type": "code",
   "execution_count": 41,
   "metadata": {},
   "outputs": [],
   "source": [
    "from sklearn.linear_model import LinearRegression\n",
    "lin_reg=LinearRegression()"
   ]
  },
  {
   "cell_type": "code",
   "execution_count": 168,
   "metadata": {},
   "outputs": [
    {
     "data": {
      "text/plain": [
       "LinearRegression(copy_X=True, fit_intercept=True, n_jobs=1, normalize=False)"
      ]
     },
     "execution_count": 168,
     "metadata": {},
     "output_type": "execute_result"
    }
   ],
   "source": [
    "lin_reg.fit(train_feat[predictors],train_feat[\"血糖\"].values)"
   ]
  },
  {
   "cell_type": "code",
   "execution_count": 169,
   "metadata": {},
   "outputs": [
    {
     "ename": "ValueError",
     "evalue": "Input contains NaN, infinity or a value too large for dtype('float64').",
     "output_type": "error",
     "traceback": [
      "\u001b[1;31m---------------------------------------------------------------------------\u001b[0m",
      "\u001b[1;31mValueError\u001b[0m                                Traceback (most recent call last)",
      "\u001b[1;32m<ipython-input-169-b047052d5843>\u001b[0m in \u001b[0;36m<module>\u001b[1;34m()\u001b[0m\n\u001b[1;32m----> 1\u001b[1;33m \u001b[0mlin_reg\u001b[0m\u001b[1;33m.\u001b[0m\u001b[0mpredict\u001b[0m\u001b[1;33m(\u001b[0m\u001b[0mtest_feat\u001b[0m\u001b[1;33m)\u001b[0m\u001b[1;33m\u001b[0m\u001b[0m\n\u001b[0m",
      "\u001b[1;32mC:\\Anaconda3\\lib\\site-packages\\sklearn\\linear_model\\base.py\u001b[0m in \u001b[0;36mpredict\u001b[1;34m(self, X)\u001b[0m\n\u001b[0;32m    266\u001b[0m             \u001b[0mReturns\u001b[0m \u001b[0mpredicted\u001b[0m \u001b[0mvalues\u001b[0m\u001b[1;33m.\u001b[0m\u001b[1;33m\u001b[0m\u001b[0m\n\u001b[0;32m    267\u001b[0m         \"\"\"\n\u001b[1;32m--> 268\u001b[1;33m         \u001b[1;32mreturn\u001b[0m \u001b[0mself\u001b[0m\u001b[1;33m.\u001b[0m\u001b[0m_decision_function\u001b[0m\u001b[1;33m(\u001b[0m\u001b[0mX\u001b[0m\u001b[1;33m)\u001b[0m\u001b[1;33m\u001b[0m\u001b[0m\n\u001b[0m\u001b[0;32m    269\u001b[0m \u001b[1;33m\u001b[0m\u001b[0m\n\u001b[0;32m    270\u001b[0m     \u001b[0m_preprocess_data\u001b[0m \u001b[1;33m=\u001b[0m \u001b[0mstaticmethod\u001b[0m\u001b[1;33m(\u001b[0m\u001b[0m_preprocess_data\u001b[0m\u001b[1;33m)\u001b[0m\u001b[1;33m\u001b[0m\u001b[0m\n",
      "\u001b[1;32mC:\\Anaconda3\\lib\\site-packages\\sklearn\\linear_model\\base.py\u001b[0m in \u001b[0;36m_decision_function\u001b[1;34m(self, X)\u001b[0m\n\u001b[0;32m    249\u001b[0m         \u001b[0mcheck_is_fitted\u001b[0m\u001b[1;33m(\u001b[0m\u001b[0mself\u001b[0m\u001b[1;33m,\u001b[0m \u001b[1;34m\"coef_\"\u001b[0m\u001b[1;33m)\u001b[0m\u001b[1;33m\u001b[0m\u001b[0m\n\u001b[0;32m    250\u001b[0m \u001b[1;33m\u001b[0m\u001b[0m\n\u001b[1;32m--> 251\u001b[1;33m         \u001b[0mX\u001b[0m \u001b[1;33m=\u001b[0m \u001b[0mcheck_array\u001b[0m\u001b[1;33m(\u001b[0m\u001b[0mX\u001b[0m\u001b[1;33m,\u001b[0m \u001b[0maccept_sparse\u001b[0m\u001b[1;33m=\u001b[0m\u001b[1;33m[\u001b[0m\u001b[1;34m'csr'\u001b[0m\u001b[1;33m,\u001b[0m \u001b[1;34m'csc'\u001b[0m\u001b[1;33m,\u001b[0m \u001b[1;34m'coo'\u001b[0m\u001b[1;33m]\u001b[0m\u001b[1;33m)\u001b[0m\u001b[1;33m\u001b[0m\u001b[0m\n\u001b[0m\u001b[0;32m    252\u001b[0m         return safe_sparse_dot(X, self.coef_.T,\n\u001b[0;32m    253\u001b[0m                                dense_output=True) + self.intercept_\n",
      "\u001b[1;32mC:\\Anaconda3\\lib\\site-packages\\sklearn\\utils\\validation.py\u001b[0m in \u001b[0;36mcheck_array\u001b[1;34m(array, accept_sparse, dtype, order, copy, force_all_finite, ensure_2d, allow_nd, ensure_min_samples, ensure_min_features, warn_on_dtype, estimator)\u001b[0m\n\u001b[0;32m    405\u001b[0m                              % (array.ndim, estimator_name))\n\u001b[0;32m    406\u001b[0m         \u001b[1;32mif\u001b[0m \u001b[0mforce_all_finite\u001b[0m\u001b[1;33m:\u001b[0m\u001b[1;33m\u001b[0m\u001b[0m\n\u001b[1;32m--> 407\u001b[1;33m             \u001b[0m_assert_all_finite\u001b[0m\u001b[1;33m(\u001b[0m\u001b[0marray\u001b[0m\u001b[1;33m)\u001b[0m\u001b[1;33m\u001b[0m\u001b[0m\n\u001b[0m\u001b[0;32m    408\u001b[0m \u001b[1;33m\u001b[0m\u001b[0m\n\u001b[0;32m    409\u001b[0m     \u001b[0mshape_repr\u001b[0m \u001b[1;33m=\u001b[0m \u001b[0m_shape_repr\u001b[0m\u001b[1;33m(\u001b[0m\u001b[0marray\u001b[0m\u001b[1;33m.\u001b[0m\u001b[0mshape\u001b[0m\u001b[1;33m)\u001b[0m\u001b[1;33m\u001b[0m\u001b[0m\n",
      "\u001b[1;32mC:\\Anaconda3\\lib\\site-packages\\sklearn\\utils\\validation.py\u001b[0m in \u001b[0;36m_assert_all_finite\u001b[1;34m(X)\u001b[0m\n\u001b[0;32m     56\u001b[0m             and not np.isfinite(X).all()):\n\u001b[0;32m     57\u001b[0m         raise ValueError(\"Input contains NaN, infinity\"\n\u001b[1;32m---> 58\u001b[1;33m                          \" or a value too large for %r.\" % X.dtype)\n\u001b[0m\u001b[0;32m     59\u001b[0m \u001b[1;33m\u001b[0m\u001b[0m\n\u001b[0;32m     60\u001b[0m \u001b[1;33m\u001b[0m\u001b[0m\n",
      "\u001b[1;31mValueError\u001b[0m: Input contains NaN, infinity or a value too large for dtype('float64')."
     ]
    }
   ],
   "source": [
    "lin_reg.predict(test_feat)"
   ]
  },
  {
   "cell_type": "code",
   "execution_count": 43,
   "metadata": {},
   "outputs": [],
   "source": [
    "from sklearn.model_selection  import cross_val_score"
   ]
  },
  {
   "cell_type": "code",
   "execution_count": 44,
   "metadata": {},
   "outputs": [
    {
     "data": {
      "text/plain": [
       "-0.8300305673762193"
      ]
     },
     "execution_count": 44,
     "metadata": {},
     "output_type": "execute_result"
    }
   ],
   "source": [
    "np.mean(cross_val_score(lin_reg,train_preds_copy,train_feat[\"血糖\"].values,cv=10,scoring=\"neg_mean_squared_error\"))"
   ]
  },
  {
   "cell_type": "code",
   "execution_count": 20,
   "metadata": {},
   "outputs": [],
   "source": [
    "final_predict=lin_reg.predict(test_preds)"
   ]
  },
  {
   "cell_type": "code",
   "execution_count": 30,
   "metadata": {},
   "outputs": [
    {
     "data": {
      "text/plain": [
       "array([9.18947329, 7.85101792, 7.82053412, 7.2681858 , 7.68962494])"
      ]
     },
     "execution_count": 30,
     "metadata": {},
     "output_type": "execute_result"
    }
   ],
   "source": [
    "test_preds[968]"
   ]
  },
  {
   "cell_type": "code",
   "execution_count": 23,
   "metadata": {},
   "outputs": [
    {
     "data": {
      "text/plain": [
       "3.9581510156214748"
      ]
     },
     "execution_count": 23,
     "metadata": {},
     "output_type": "execute_result"
    }
   ],
   "source": [
    "final_predict.min()"
   ]
  },
  {
   "cell_type": "code",
   "execution_count": 166,
   "metadata": {},
   "outputs": [],
   "source": [
    "submission = pd.DataFrame({'pred':test_preds.mean(axis=1)})\n",
    "submission.to_csv(r'sub{}.csv'.format(datetime.datetime.now().strftime('%Y%m%d_%H%M%S')),header=None,\n",
    "                  index=False, float_format='%.4f')"
   ]
  },
  {
   "cell_type": "code",
   "execution_count": 167,
   "metadata": {},
   "outputs": [
    {
     "data": {
      "text/html": [
       "<div>\n",
       "<style scoped>\n",
       "    .dataframe tbody tr th:only-of-type {\n",
       "        vertical-align: middle;\n",
       "    }\n",
       "\n",
       "    .dataframe tbody tr th {\n",
       "        vertical-align: top;\n",
       "    }\n",
       "\n",
       "    .dataframe thead th {\n",
       "        text-align: right;\n",
       "    }\n",
       "</style>\n",
       "<table border=\"1\" class=\"dataframe\">\n",
       "  <thead>\n",
       "    <tr style=\"text-align: right;\">\n",
       "      <th></th>\n",
       "      <th>pred</th>\n",
       "    </tr>\n",
       "  </thead>\n",
       "  <tbody>\n",
       "    <tr>\n",
       "      <th>count</th>\n",
       "      <td>1000.000000</td>\n",
       "    </tr>\n",
       "    <tr>\n",
       "      <th>mean</th>\n",
       "      <td>5.702297</td>\n",
       "    </tr>\n",
       "    <tr>\n",
       "      <th>std</th>\n",
       "      <td>0.603190</td>\n",
       "    </tr>\n",
       "    <tr>\n",
       "      <th>min</th>\n",
       "      <td>4.704549</td>\n",
       "    </tr>\n",
       "    <tr>\n",
       "      <th>25%</th>\n",
       "      <td>5.232757</td>\n",
       "    </tr>\n",
       "    <tr>\n",
       "      <th>50%</th>\n",
       "      <td>5.576749</td>\n",
       "    </tr>\n",
       "    <tr>\n",
       "      <th>75%</th>\n",
       "      <td>6.059049</td>\n",
       "    </tr>\n",
       "    <tr>\n",
       "      <th>max</th>\n",
       "      <td>8.373323</td>\n",
       "    </tr>\n",
       "  </tbody>\n",
       "</table>\n",
       "</div>"
      ],
      "text/plain": [
       "              pred\n",
       "count  1000.000000\n",
       "mean      5.702297\n",
       "std       0.603190\n",
       "min       4.704549\n",
       "25%       5.232757\n",
       "50%       5.576749\n",
       "75%       6.059049\n",
       "max       8.373323"
      ]
     },
     "execution_count": 167,
     "metadata": {},
     "output_type": "execute_result"
    }
   ],
   "source": [
    "submission.describe()"
   ]
  },
  {
   "cell_type": "code",
   "execution_count": null,
   "metadata": {},
   "outputs": [],
   "source": []
  }
 ],
 "metadata": {
  "kernelspec": {
   "display_name": "Python 3",
   "language": "python",
   "name": "python3"
  },
  "language_info": {
   "codemirror_mode": {
    "name": "ipython",
    "version": 3
   },
   "file_extension": ".py",
   "mimetype": "text/x-python",
   "name": "python",
   "nbconvert_exporter": "python",
   "pygments_lexer": "ipython3",
   "version": "3.6.3"
  }
 },
 "nbformat": 4,
 "nbformat_minor": 2
}
